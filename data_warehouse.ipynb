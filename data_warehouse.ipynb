{
 "cells": [
  {
   "cell_type": "code",
   "execution_count": 1,
   "metadata": {},
   "outputs": [
    {
     "name": "stderr",
     "output_type": "stream",
     "text": [
      "C:\\Users\\singh\\AppData\\Local\\Temp\\ipykernel_16884\\383338942.py:7: MovedIn20Warning: The ``declarative_base()`` function is now available as sqlalchemy.orm.declarative_base(). (deprecated since: 2.0) (Background on SQLAlchemy 2.0 at: https://sqlalche.me/e/b8d9)\n",
      "  Base = declarative_base()\n"
     ]
    }
   ],
   "source": [
    "from sqlalchemy import create_engine, Column, Integer, String, Date, DECIMAL\n",
    "from sqlalchemy.ext.declarative import declarative_base\n",
    "import pandas as pd\n",
    "from sqlalchemy.orm import sessionmaker\n",
    "\n",
    "# Define the base class for declarative class definitions\n",
    "Base = declarative_base()\n",
    "\n",
    "# Define the CustomerInformation table schema\n",
    "class CustomerInformation(Base):\n",
    "    __tablename__ = 'CustomerInformation'\n",
    "    CustomerID = Column(Integer, primary_key=True)\n",
    "    Name = Column(String(100))\n",
    "    DateOfBirth = Column(Date)\n",
    "    Gender = Column(String(10))\n",
    "    Address = Column(String(255))\n",
    "    City = Column(String(50))\n",
    "    State = Column(String(50))\n",
    "    PinCode = Column(String(10))\n",
    "    DefaultStatus = Column(Integer)\n",
    "    BankruptcyIndicator = Column(Integer)\n",
    "    CreditInquiriesPast6Months = Column(Integer)\n",
    "    MonthsSinceLastInquiry = Column(Integer)\n",
    "    PercentageOpenAccounts = Column(DECIMAL(5, 2))\n",
    "    PercentageOpenAccountsPast24Months = Column(DECIMAL(5, 2))\n",
    "    TotalOpenAccounts = Column(Integer)\n",
    "    TotalCreditLimitSum = Column(DECIMAL(10, 2))\n",
    "    MaxCreditLimit = Column(DECIMAL(10, 2))\n",
    "    PercentageHighBalanceAccounts = Column(DECIMAL(5, 2))\n",
    "    PercentageSatisfiedAccounts = Column(DECIMAL(5, 2))\n",
    "    BadDerogatoryMarksCount = Column(Integer)\n",
    "    SatisfiedAccountsCount = Column(Integer)\n",
    "    MonthsSinceFirstCreditAccount = Column(Integer)\n",
    "    MonthsSinceLastCreditAccount = Column(Integer)\n",
    "    DelinquentAccounts30To60DaysPast24Months = Column(Integer)\n",
    "    DelinquentAccounts90DaysPast24Months = Column(Integer)\n",
    "    TotalDelinquentAccounts60Days = Column(Integer)\n",
    "\n",
    "# Create the SQLite engine\n",
    "engine = create_engine('sqlite:///datawarehouse.db')\n",
    "\n",
    "# Create the tables in the database\n",
    "Base.metadata.create_all(engine)\n",
    "\n",
    "# Create a configured \"Session\" class\n",
    "Session = sessionmaker(bind=engine)\n",
    "# Create a session\n",
    "session = Session()\n",
    "\n",
    "# Define a function to load data from a CSV file into a specific table\n",
    "def load_csv_to_table(csv_file, table_class):\n",
    "    df = pd.read_csv(csv_file)\n",
    "    df.to_sql(table_class.__tablename__, con=engine, if_exists='append', index=False)\n",
    "\n",
    "# Load data into each table\n",
    "load_csv_to_table('CustomerInformation.csv', CustomerInformation)\n"
   ]
  },
  {
   "cell_type": "code",
   "execution_count": 3,
   "metadata": {},
   "outputs": [
    {
     "name": "stderr",
     "output_type": "stream",
     "text": [
      "C:\\Users\\singh\\AppData\\Local\\Temp\\ipykernel_16884\\2079472632.py:2: MovedIn20Warning: The ``declarative_base()`` function is now available as sqlalchemy.orm.declarative_base(). (deprecated since: 2.0) (Background on SQLAlchemy 2.0 at: https://sqlalche.me/e/b8d9)\n",
      "  Base = declarative_base()\n"
     ]
    }
   ],
   "source": [
    "# Define the base class for declarative class definitions\n",
    "Base = declarative_base()\n",
    "\n",
    "# Define the AccountInformation table schema\n",
    "class AccountInformation(Base):\n",
    "    __tablename__ = 'AccountInformation'\n",
    "    AccountID = Column(Integer, primary_key=True)\n",
    "    CustomerID = Column(Integer)\n",
    "    AccountType = Column(String(50))\n",
    "    AccountNumber = Column(String(50))\n",
    "    AccountStatus = Column(String(50))\n",
    "    Balance = Column(DECIMAL(10, 2))\n",
    "    CreditLimit = Column(DECIMAL(10, 2))\n",
    "    OverdraftLimit = Column(DECIMAL(10, 2))\n",
    "    InterestRate = Column(DECIMAL(5, 2))\n",
    "    DateOpened = Column(Date)\n",
    "    DateClosed = Column(Date)\n",
    "    MonthlyFee = Column(DECIMAL(10, 2))\n",
    "    MinimumBalanceRequired = Column(DECIMAL(10, 2))\n",
    "    LastTransactionDate = Column(Date)\n",
    "    TotalDeposits = Column(DECIMAL(10, 2))\n",
    "    TotalWithdrawals = Column(DECIMAL(10, 2))\n",
    "    TotalTransactions = Column(Integer)\n",
    "\n",
    "# Create the SQLite engine\n",
    "engine = create_engine('sqlite:///datawarehouse.db')\n",
    "\n",
    "# Create the tables in the database\n",
    "Base.metadata.create_all(engine)\n",
    "\n",
    "# Create a configured \"Session\" class\n",
    "Session = sessionmaker(bind=engine)\n",
    "# Create a session\n",
    "session = Session()\n",
    "\n",
    "# Define a function to load data from a CSV file into a specific table\n",
    "def load_csv_to_table(csv_file, table_class):\n",
    "    df = pd.read_csv(csv_file)\n",
    "    df.to_sql(table_class.__tablename__, con=engine, if_exists='append', index=False)\n",
    "\n",
    "load_csv_to_table('AccountInformation.csv', AccountInformation)"
   ]
  },
  {
   "cell_type": "code",
   "execution_count": 3,
   "metadata": {},
   "outputs": [
    {
     "name": "stderr",
     "output_type": "stream",
     "text": [
      "C:\\Users\\singh\\AppData\\Local\\Temp\\ipykernel_14572\\2822363636.py:7: MovedIn20Warning: The ``declarative_base()`` function is now available as sqlalchemy.orm.declarative_base(). (deprecated since: 2.0) (Background on SQLAlchemy 2.0 at: https://sqlalche.me/e/b8d9)\n",
      "  Base = declarative_base()\n"
     ]
    }
   ],
   "source": [
    "from sqlalchemy import create_engine, Column, Integer, String, Date, DECIMAL\n",
    "from sqlalchemy.ext.declarative import declarative_base\n",
    "import pandas as pd\n",
    "from sqlalchemy.orm import sessionmaker\n",
    "\n",
    "# Define the base class for declarative class definitions\n",
    "Base = declarative_base()\n",
    "\n",
    "# Define the TransactionInformation table schema\n",
    "class TransactionInformation(Base):\n",
    "    __tablename__ = 'TransactionInformation'\n",
    "    TransactionID = Column(Integer, primary_key=True)\n",
    "    AccountID = Column(Integer)\n",
    "    TransactionDate = Column(Date)\n",
    "    TransactionAmount = Column(DECIMAL(10, 2))\n",
    "    TransactionType = Column(String(50))\n",
    "\n",
    "# Create the SQLite engine\n",
    "engine = create_engine('sqlite:///datawarehouse.db')\n",
    "\n",
    "# Create the tables in the database\n",
    "Base.metadata.create_all(engine)\n",
    "\n",
    "# Create a configured \"Session\" class\n",
    "Session = sessionmaker(bind=engine)\n",
    "# Create a session\n",
    "session = Session()\n",
    "\n",
    "# Define a function to load data from a CSV file into a specific table\n",
    "def load_csv_to_table(csv_file, table_class):\n",
    "    df = pd.read_csv(csv_file)\n",
    "    df.to_sql(table_class.__tablename__, con=engine, if_exists='append', index=False)\n",
    "\n",
    "# Load data into each table\n",
    "load_csv_to_table('TransactionInformation.csv', TransactionInformation)\n"
   ]
  },
  {
   "cell_type": "code",
   "execution_count": 4,
   "metadata": {},
   "outputs": [
    {
     "name": "stderr",
     "output_type": "stream",
     "text": [
      "C:\\Users\\singh\\AppData\\Local\\Temp\\ipykernel_14572\\706911910.py:7: MovedIn20Warning: The ``declarative_base()`` function is now available as sqlalchemy.orm.declarative_base(). (deprecated since: 2.0) (Background on SQLAlchemy 2.0 at: https://sqlalche.me/e/b8d9)\n",
      "  Base = declarative_base()\n"
     ]
    }
   ],
   "source": [
    "from sqlalchemy import create_engine, Column, Integer, String, Date, DECIMAL\n",
    "from sqlalchemy.ext.declarative import declarative_base\n",
    "import pandas as pd\n",
    "from sqlalchemy.orm import sessionmaker\n",
    "\n",
    "# Define the base class for declarative class definitions\n",
    "Base = declarative_base()\n",
    "\n",
    "# Define the LoanInformation table schema\n",
    "class LoanInformation(Base):\n",
    "    __tablename__ = 'LoanInformation'\n",
    "    LoanID = Column(Integer, primary_key=True)\n",
    "    CustomerID = Column(Integer)\n",
    "    Dependents = Column(Integer)\n",
    "    Education = Column(String(50))\n",
    "    LoanAmount = Column(DECIMAL(10, 2))\n",
    "    LoanType = Column(String(50))\n",
    "    LoanTerm = Column(String(50))\n",
    "    Collateral = Column(String(50))\n",
    "    LoanStatus = Column(String(50))\n",
    "    Applicant_income = Column(Integer)\n",
    "    Coapplicant_income = Column(Integer)\n",
    "\n",
    "# Create the SQLite engine\n",
    "engine = create_engine('sqlite:///datawarehouse.db')\n",
    "\n",
    "# Create the tables in the database\n",
    "Base.metadata.create_all(engine)\n",
    "\n",
    "# Create a configured \"Session\" class\n",
    "Session = sessionmaker(bind=engine)\n",
    "# Create a session\n",
    "session = Session()\n",
    "\n",
    "# Define a function to load data from a CSV file into a specific table\n",
    "def load_csv_to_table(csv_file, table_class):\n",
    "    df = pd.read_csv(csv_file)\n",
    "    df.to_sql(table_class.__tablename__, con=engine, if_exists='append', index=False)\n",
    "\n",
    "# Load data into each table\n",
    "load_csv_to_table('LoanInformation.csv', LoanInformation)"
   ]
  },
  {
   "cell_type": "code",
   "execution_count": 5,
   "metadata": {},
   "outputs": [
    {
     "name": "stderr",
     "output_type": "stream",
     "text": [
      "C:\\Users\\singh\\AppData\\Local\\Temp\\ipykernel_14572\\2135482247.py:7: MovedIn20Warning: The ``declarative_base()`` function is now available as sqlalchemy.orm.declarative_base(). (deprecated since: 2.0) (Background on SQLAlchemy 2.0 at: https://sqlalche.me/e/b8d9)\n",
      "  Base = declarative_base()\n"
     ]
    }
   ],
   "source": [
    "from sqlalchemy import create_engine, Column, Integer, String, Date, DECIMAL\n",
    "from sqlalchemy.ext.declarative import declarative_base\n",
    "import pandas as pd\n",
    "from sqlalchemy.orm import sessionmaker\n",
    "\n",
    "# Define the base class for declarative class definitions\n",
    "Base = declarative_base()\n",
    "\n",
    "# Define the CreditCardInformation table schema\n",
    "class CreditCardInformation(Base):\n",
    "    __tablename__ = 'CreditCardInformation'\n",
    "    CreditCardID = Column(Integer, primary_key=True)\n",
    "    CustomerID = Column(Integer)\n",
    "    CreditLimit = Column(DECIMAL(10, 2))\n",
    "    Balance = Column(DECIMAL(10, 2))\n",
    "    CreditCardStatus = Column(String(50))\n",
    "    CreditCardApplicationDate = Column(Date)\n",
    "\n",
    "# Create the SQLite engine\n",
    "engine = create_engine('sqlite:///datawarehouse.db')\n",
    "\n",
    "# Create the tables in the database\n",
    "Base.metadata.create_all(engine)\n",
    "\n",
    "# Create a configured \"Session\" class\n",
    "Session = sessionmaker(bind=engine)\n",
    "# Create a session\n",
    "session = Session()\n",
    "\n",
    "# Define a function to load data from a CSV file into a specific table\n",
    "def load_csv_to_table(csv_file, table_class):\n",
    "    df = pd.read_csv(csv_file)\n",
    "    df.to_sql(table_class.__tablename__, con=engine, if_exists='append', index=False)\n",
    "\n",
    "# Load data into each table\n",
    "load_csv_to_table('CreditCardInformation.csv', CreditCardInformation)"
   ]
  },
  {
   "cell_type": "code",
   "execution_count": null,
   "metadata": {},
   "outputs": [],
   "source": []
  }
 ],
 "metadata": {
  "kernelspec": {
   "display_name": "Python 3",
   "language": "python",
   "name": "python3"
  },
  "language_info": {
   "codemirror_mode": {
    "name": "ipython",
    "version": 3
   },
   "file_extension": ".py",
   "mimetype": "text/x-python",
   "name": "python",
   "nbconvert_exporter": "python",
   "pygments_lexer": "ipython3",
   "version": "3.12.4"
  }
 },
 "nbformat": 4,
 "nbformat_minor": 2
}
